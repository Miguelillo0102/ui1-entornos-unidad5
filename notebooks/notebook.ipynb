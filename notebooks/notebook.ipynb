{
 "cells": [
  {
   "cell_type": "code",
   "execution_count": null,
   "metadata": {},
   "outputs": [],
   "source": [
    "from pyspark.sql.functions import expr, col, dense_rank\n",
    "from pyspark.sql.window import Window\n",
    "from pyspark.sql.types import *\n",
    "trips_per_time_nh_df = spark.read.json('../datasets/results_case/')\n",
    "windowSpec = Window.partitionBy(col('window'), col('typeEvent')).orderBy(expr('count').desc())\n",
    "query=trips_per_time_nh_df.select('*', dense_rank().over(windowSpec).alias('rank')).filter(expr('rank<=5')).orderBy(expr('window ASC'), expr('typeEvent DESC'))\n",
    "query.show(truncate=False,n=100)"
   ]
  }
 ],
 "metadata": {
  "kernelspec": {
   "display_name": "Python 3",
   "language": "python",
   "name": "python3"
  },
  "language_info": {
   "codemirror_mode": {
    "name": "ipython",
    "version": 3
   },
   "file_extension": ".py",
   "mimetype": "text/x-python",
   "name": "python",
   "nbconvert_exporter": "python",
   "pygments_lexer": "ipython3",
   "version": "3.7.4"
  }
 },
 "nbformat": 4,
 "nbformat_minor": 2
}
